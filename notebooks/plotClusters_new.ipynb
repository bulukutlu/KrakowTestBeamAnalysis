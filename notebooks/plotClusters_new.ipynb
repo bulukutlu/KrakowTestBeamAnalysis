{
 "cells": [
  {
   "cell_type": "code",
   "execution_count": null,
   "id": "bf8c54d4",
   "metadata": {},
   "outputs": [],
   "source": [
    "from bokeh.io import output_notebook, show\n",
    "from bokeh.plotting import output_file\n",
    "from RootInteractive.InteractiveDrawing.bokeh.bokehDrawSA import *\n",
    "from RootInteractive.InteractiveDrawing.bokeh.bokehInteractiveParameters import *\n",
    "from RootInteractive.Tools.pandaTools import initMetadata\n",
    "import pandas as pd\n",
    "import numpy as np\n",
    "import math\n",
    "import logging"
   ]
  },
  {
   "cell_type": "code",
   "execution_count": null,
   "id": "1c5a1b5e",
   "metadata": {},
   "outputs": [],
   "source": [
    "from IPython.core.display import display, HTML\n",
    "display(HTML(\"<style>.container { width:90% !important; }</style>\"))"
   ]
  },
  {
   "cell_type": "code",
   "execution_count": null,
   "id": "f5a45691",
   "metadata": {},
   "outputs": [],
   "source": [
    "path = \"../output/\"\n",
    "file = \"run456060805_221112060811_clusters.csv\"\n",
    "df = pd.read_csv(path+file)\n",
    "initMetadata(df)\n",
    "df.meta.metaData = {    \n",
    "    \"localX.AxisTitle\":      \"local X (mm)\",\n",
    "    \"localY.AxisTitle\":      \"local Y (mm)\",\n",
    "    \"globalX.AxisTitle\":     \"global X (mm)\",\n",
    "    \"globalY.AxisTitle\":     \"global Y (mm)\",\n",
    "    \"globalZ.AxisTitle\":     \"global Z (mm)\",\n",
    "    \"ID.AxisTitle\":          \"ALPIDE\",\n",
    "    \"nPixels.AxisTitle\":     \"Number of pixels in cluster\",\n",
    "    \"columnWidth.AxisTitle\": \"Cluster width in columns (Width in X)\",\n",
    "    \"rowWidth.AxisTitle\": \"Cluster width in rows (Width in Y)\"\n",
    "}"
   ]
  },
  {
   "cell_type": "code",
   "execution_count": null,
   "id": "d8a90792",
   "metadata": {},
   "outputs": [],
   "source": [
    "myMap = {\"ALPIDE_0\":0,\"ALPIDE_1\":1,\"ALPIDE_2\":2,\"ALPIDE_3\":3,\"ALPIDE_4\":4}\n",
    "df[\"ID\"] = df[\"detector\"].map(myMap)\n",
    "variables=list([i for i in df.columns if \"detector\" not in i])\n",
    "df.head()"
   ]
  },
  {
   "cell_type": "code",
   "execution_count": null,
   "id": "4412a63f",
   "metadata": {},
   "outputs": [],
   "source": [
    "aliasArray = [\n",
    "    #(\"ALPIDE_bitmap\",\"0x1*(detector==\\\"ALPIDE_0\\\")\")\n",
    "]\n",
    "\n",
    "aliasArray+=[\n",
    "    {\n",
    "        \"name\": \"customFunction\",\n",
    "        \"variables\": [i for i in variables if  \"ustom\" not in i ],\n",
    "        \"func\":\"customFunction\",\n",
    "    }\n",
    "]"
   ]
  },
  {
   "cell_type": "code",
   "execution_count": null,
   "id": "77657323",
   "metadata": {},
   "outputs": [],
   "source": [
    "\n",
    "axisTransforms = [None, \"sqrt\", \"lambda x: log(1+x)\",\"lambda x: 1/sqrt(x)\"]\n",
    "\n",
    "parameterArray = [\n",
    "    # Parameters to enable custom histogramming\n",
    "    {\"name\": \"varX\", \"value\":\"localX\", \"options\":variables},\n",
    "    {\"name\": \"varY\", \"value\":\"localY\", \"options\":variables},\n",
    "    {\"name\": \"varZ\", \"value\":\"nPixels\", \"options\":variables},\n",
    "    {\"name\": \"nbinsX\", \"value\":30, \"range\":[10, 200]},\n",
    "    {\"name\": \"nbinsY\", \"value\":30, \"range\":[10, 200]},\n",
    "    {\"name\": \"nbinsZ\", \"value\":5, \"range\":[1,10]},\n",
    "    {\"name\": \"varColor\", \"value\":\"nPixels\", \"options\":variables},\n",
    "    # Transformations on axes\n",
    "    {'name': \"xAxisTransform\", \"value\":None, \"options\":axisTransforms},\n",
    "    {'name': \"yAxisTransform\", \"value\":None, \"options\":axisTransforms},\n",
    "    {'name': \"zAxisTransform\", \"value\":None, \"options\":axisTransforms},\n",
    "    # custom selection\n",
    "    {'name': 'customFunction', \"value\":\"return 1\"},\n",
    "]\n",
    "\n",
    "parameterArray.extend(figureParameters[\"legend\"]['parameterArray'])   \n",
    "parameterArray.extend(figureParameters[\"markers\"]['parameterArray'])  "
   ]
  },
  {
   "cell_type": "code",
   "execution_count": null,
   "id": "f3ca17a1",
   "metadata": {},
   "outputs": [],
   "source": [
    "widgetParams = [\n",
    "    # Selection on data\n",
    "    [\"range\", [\"localX\"]],\n",
    "    [\"range\", [\"localY\"]],\n",
    "    [\"range\", [\"globalX\"]],\n",
    "    [\"range\", [\"globalY\"]],\n",
    "    [\"range\", [\"globalZ\"]],\n",
    "    [\"multiSelect\", [\"detector\"]],\n",
    "    [\"range\", [\"eventNr\"]],\n",
    "    [\"range\", [\"timeStamp\"]],\n",
    "    [\"range\", [\"charge\"]],\n",
    "    [\"range\", [\"nPixels\"]],\n",
    "    [\"range\", [\"columnWidth\"]],\n",
    "    [\"range\", [\"rowWidth\"]],\n",
    "    [\"multiSelect\", [\"split\"]],\n",
    "    ['text', ['customFunction'], {\"name\": \"Custom selection\"}],\n",
    "    # Selection for visualization\n",
    "    ['select', ['varX'], {\"name\": \"varX\"}],\n",
    "    ['select', ['varY'], {\"name\": \"varY\"}],\n",
    "    ['select', ['varZ'], {\"name\": \"varZ\"}],\n",
    "    ['slider', ['nbinsX'], {\"name\": \"nbinsX\"}],\n",
    "    ['slider', ['nbinsY'], {\"name\": \"nbinsY\"}],\n",
    "    ['slider', ['nbinsZ'], {\"name\": \"nbinsZ\"}],\n",
    "    ['select', ['xAxisTransform'], {\"name\": \"xAxisTransform\"}],\n",
    "    ['select', ['yAxisTransform'], {\"name\": \"yAxisTransform\"}],\n",
    "    ['select', ['zAxisTransform'], {\"name\": \"zAxisTransform\"}],\n",
    "    ['select', ['varColor'], {\"name\": \"varColor\"}],\n",
    "]\n",
    "\n",
    "widgetParams.extend(figureParameters[\"legend\"][\"widgets\"])\n",
    "widgetParams.extend(figureParameters[\"markers\"][\"widgets\"])\n",
    "\n",
    "widgetLayoutDesc = {\n",
    "    \"Selection\": [[0,1,2,3,4],[5,6,7,8],[9,10,11,12],[13],{\"sizing_mode\": \"scale_width\"}],\n",
    "    \"Plotting\" : [[14,15,16],[17,18,19],[20,21,22],[23],{\"sizing_mode\": \"scale_width\"}],\n",
    "    \"Legend\": figureParameters['legend']['widgetLayout'],\n",
    "    \"Markers\":[\"markerSize\"]\n",
    "} \n",
    "\n",
    "figureGlobalOption={}\n",
    "figureGlobalOption=figureParameters[\"legend\"][\"figureOptions\"]\n",
    "figureGlobalOption[\"size\"]=\"markerSize\"\n",
    "figureGlobalOption[\"x_transform\"]=\"xAxisTransform\"\n",
    "figureGlobalOption[\"y_transform\"]=\"yAxisTransform\"\n",
    "figureGlobalOption[\"z_transform\"]=\"zAxisTransform\""
   ]
  },
  {
   "cell_type": "code",
   "execution_count": null,
   "id": "59f95d92",
   "metadata": {},
   "outputs": [],
   "source": [
    "histoArray = [\n",
    "        {\"name\": \"histo2Dhitmap\", \"variables\": [\"localX\",\"localY\"], \"nbins\":[\"nbinsX\",\"nbinsY\"], \"axis\":[1],\"unbinned_projections\":True},\n",
    "        {\"name\": \"histo3Dcustom\", \"variables\": [\"varX\",\"varY\",\"varZ\"], \"nbins\":[\"nbinsX\",\"nbinsY\",\"nbinsZ\"],\"axis\":[1,2],\"unbinned_projections\":True},\n",
    "        {\"name\": \"histo2Dcustom\", \"variables\": [\"varX\",\"varY\"], \"nbins\":[\"nbinsX\",\"nbinsY\"], \"axis\":[1],\"unbinned_projections\":True},\n",
    "        {\"name\": \"histo1Dcustom\", \"variables\": [\"varX\"], \"nbins\":\"nbinsX\"},\n",
    "\n",
    "    ]\n",
    "\n",
    "figureArray = [\n",
    "    # 3D plot\n",
    "    [[\"globalZ\"], [\"globalX\"], {\"color\": \"red\", \"size\": 2, \"varZ\": \"globalY\", \"colorZvar\": \"varColor\", \"name\":\"3D\"}],\n",
    "    # Hitmap\n",
    "    [[(\"bin_bottom_0\", \"bin_top_0\")], [(\"bin_bottom_1\", \"bin_top_1\")], {\"colorZvar\":\"bin_count\",\"source\":\"histo2Dhitmap\",\"name\":\"2Dhitmap\"}],\n",
    "    # Custom histogramming\n",
    "    [[\"bin_center\"],[\"bin_count\"],{\"source\":\"histo1Dcustom\"}],\n",
    "    [[(\"bin_bottom_0\", \"bin_top_0\")], [(\"bin_bottom_1\", \"bin_top_1\")], {\"colorZvar\":\"bin_count\",\"source\":\"histo2Dcustom\"}],\n",
    "    [[(\"bin_bottom_0\", \"bin_top_0\")], [(\"bin_bottom_1\", \"bin_top_1\")], {\"colorZvar\": \"mean\", \"source\":\"histo3Dcustom_2\"}],\n",
    "    #\n",
    "    figureGlobalOption\n",
    "]"
   ]
  },
  {
   "cell_type": "code",
   "execution_count": null,
   "id": "d03a081a",
   "metadata": {},
   "outputs": [],
   "source": [
    "layout = {\n",
    "    \"Geometry\" : [[0],{\"plot_height\":500,\"sizing_mode\":\"fixed\"}],\n",
    "    \"Hitmap\" : [[1],{\"plot_height\":500,\"sizing_mode\":\"fixed\"}],\n",
    "    \"Custom\" : [[2,3,4],{\"plot_height\":500}]\n",
    "}"
   ]
  },
  {
   "cell_type": "code",
   "execution_count": null,
   "id": "18dae0a7",
   "metadata": {},
   "outputs": [],
   "source": [
    "tooltips = []\n",
    "output_file(\"../output/\"+file[0:-4]+\".html\")\n",
    "arrayCompressionRelative10=[(\".*\",[(\"relative\",10), (\"code\",0), (\"zip\",0), (\"base64\",0)])]\n",
    "arrayCompression=arrayCompressionRelative10\n",
    "bokehDrawSA.fromArray(df, \"eventNr>=0\", figureArray, widgetParams, layout=layout, tooltips=tooltips, widgetLayout=widgetLayoutDesc,\n",
    "                      histogramArray=histoArray,aliasArray=aliasArray,arrayCompression=arrayCompression,parameterArray=parameterArray,\n",
    "                      sizing_mode='scale_width',rescaleColorMapper=True,)"
   ]
  },
  {
   "cell_type": "code",
   "execution_count": null,
   "id": "a3667ea1",
   "metadata": {},
   "outputs": [],
   "source": []
  }
 ],
 "metadata": {
  "kernelspec": {
   "display_name": "Python 3.8.10 64-bit",
   "language": "python",
   "name": "python3"
  },
  "language_info": {
   "codemirror_mode": {
    "name": "ipython",
    "version": 3
   },
   "file_extension": ".py",
   "mimetype": "text/x-python",
   "name": "python",
   "nbconvert_exporter": "python",
   "pygments_lexer": "ipython3",
   "version": "3.10.6"
  },
  "vscode": {
   "interpreter": {
    "hash": "916dbcbb3f70747c44a77c7bcd40155683ae19c65e1c03b4aa3499c5328201f1"
   }
  }
 },
 "nbformat": 4,
 "nbformat_minor": 5
}
