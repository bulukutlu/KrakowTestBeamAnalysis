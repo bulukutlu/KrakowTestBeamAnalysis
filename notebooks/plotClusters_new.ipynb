{
 "cells": [
  {
   "cell_type": "code",
   "execution_count": 172,
   "id": "bf8c54d4",
   "metadata": {},
   "outputs": [],
   "source": [
    "from bokeh.io import output_notebook, show\n",
    "from bokeh.plotting import output_file\n",
    "from RootInteractive.InteractiveDrawing.bokeh.bokehDrawSA import bokehDrawSA\n",
    "from RootInteractive.InteractiveDrawing.bokeh.bokehTools import bokehDrawArray\n",
    "from RootInteractive.Tools.pandaTools import initMetadata\n",
    "import pandas as pd\n",
    "import numpy as np\n",
    "import math\n",
    "import logging"
   ]
  },
  {
   "cell_type": "code",
   "execution_count": 173,
   "id": "1c5a1b5e",
   "metadata": {},
   "outputs": [
    {
     "name": "stderr",
     "output_type": "stream",
     "text": [
      "/tmp/ipykernel_64373/912229180.py:1: DeprecationWarning: Importing display from IPython.core.display is deprecated since IPython 7.14, please import from IPython display\n",
      "  from IPython.core.display import display, HTML\n"
     ]
    },
    {
     "data": {
      "text/html": [
       "<style>.container { width:90% !important; }</style>"
      ],
      "text/plain": [
       "<IPython.core.display.HTML object>"
      ]
     },
     "metadata": {},
     "output_type": "display_data"
    }
   ],
   "source": [
    "from IPython.core.display import display, HTML\n",
    "display(HTML(\"<style>.container { width:90% !important; }</style>\"))"
   ]
  },
  {
   "cell_type": "code",
   "execution_count": 174,
   "id": "f5a45691",
   "metadata": {},
   "outputs": [],
   "source": [
    "df = pd.read_csv(\"output_new_new.csv\")\n",
    "\n",
    "initMetadata(df)"
   ]
  },
  {
   "cell_type": "code",
   "execution_count": 175,
   "id": "d8a90792",
   "metadata": {},
   "outputs": [
    {
     "data": {
      "text/html": [
       "<div>\n",
       "<style scoped>\n",
       "    .dataframe tbody tr th:only-of-type {\n",
       "        vertical-align: middle;\n",
       "    }\n",
       "\n",
       "    .dataframe tbody tr th {\n",
       "        vertical-align: top;\n",
       "    }\n",
       "\n",
       "    .dataframe thead th {\n",
       "        text-align: right;\n",
       "    }\n",
       "</style>\n",
       "<table border=\"1\" class=\"dataframe\">\n",
       "  <thead>\n",
       "    <tr style=\"text-align: right;\">\n",
       "      <th></th>\n",
       "      <th>eventNr</th>\n",
       "      <th>detector</th>\n",
       "      <th>localX</th>\n",
       "      <th>localY</th>\n",
       "      <th>globalX</th>\n",
       "      <th>globalY</th>\n",
       "      <th>globalZ</th>\n",
       "      <th>charge</th>\n",
       "      <th>split</th>\n",
       "      <th>nPixels</th>\n",
       "      <th>columnWidth</th>\n",
       "      <th>rowWidth</th>\n",
       "      <th>timeStamp</th>\n",
       "      <th>ID</th>\n",
       "    </tr>\n",
       "  </thead>\n",
       "  <tbody>\n",
       "    <tr>\n",
       "      <th>0</th>\n",
       "      <td>0</td>\n",
       "      <td>ALPIDE_0</td>\n",
       "      <td>5.21934</td>\n",
       "      <td>-6.06144</td>\n",
       "      <td>-29.5471</td>\n",
       "      <td>-5.19305</td>\n",
       "      <td>6.43856</td>\n",
       "      <td>1</td>\n",
       "      <td>0</td>\n",
       "      <td>1</td>\n",
       "      <td>1</td>\n",
       "      <td>1</td>\n",
       "      <td>6.456710e+14</td>\n",
       "      <td>0</td>\n",
       "    </tr>\n",
       "    <tr>\n",
       "      <th>1</th>\n",
       "      <td>0</td>\n",
       "      <td>ALPIDE_0</td>\n",
       "      <td>12.09070</td>\n",
       "      <td>-5.52384</td>\n",
       "      <td>-27.5964</td>\n",
       "      <td>-11.76610</td>\n",
       "      <td>6.97616</td>\n",
       "      <td>1</td>\n",
       "      <td>0</td>\n",
       "      <td>1</td>\n",
       "      <td>1</td>\n",
       "      <td>1</td>\n",
       "      <td>6.456710e+14</td>\n",
       "      <td>0</td>\n",
       "    </tr>\n",
       "    <tr>\n",
       "      <th>2</th>\n",
       "      <td>40</td>\n",
       "      <td>ALPIDE_4</td>\n",
       "      <td>8.99130</td>\n",
       "      <td>-5.57760</td>\n",
       "      <td>28.6627</td>\n",
       "      <td>8.85729</td>\n",
       "      <td>6.92240</td>\n",
       "      <td>1</td>\n",
       "      <td>0</td>\n",
       "      <td>1</td>\n",
       "      <td>1</td>\n",
       "      <td>1</td>\n",
       "      <td>6.467850e+14</td>\n",
       "      <td>4</td>\n",
       "    </tr>\n",
       "    <tr>\n",
       "      <th>3</th>\n",
       "      <td>48</td>\n",
       "      <td>ALPIDE_1</td>\n",
       "      <td>-8.02053</td>\n",
       "      <td>0.95424</td>\n",
       "      <td>-22.6722</td>\n",
       "      <td>7.87207</td>\n",
       "      <td>7.20424</td>\n",
       "      <td>10</td>\n",
       "      <td>0</td>\n",
       "      <td>10</td>\n",
       "      <td>4</td>\n",
       "      <td>3</td>\n",
       "      <td>6.469990e+14</td>\n",
       "      <td>1</td>\n",
       "    </tr>\n",
       "    <tr>\n",
       "      <th>4</th>\n",
       "      <td>48</td>\n",
       "      <td>ALPIDE_2</td>\n",
       "      <td>-7.53196</td>\n",
       "      <td>3.01423</td>\n",
       "      <td>-16.4470</td>\n",
       "      <td>7.31407</td>\n",
       "      <td>3.01423</td>\n",
       "      <td>11</td>\n",
       "      <td>0</td>\n",
       "      <td>11</td>\n",
       "      <td>3</td>\n",
       "      <td>4</td>\n",
       "      <td>6.470000e+14</td>\n",
       "      <td>2</td>\n",
       "    </tr>\n",
       "  </tbody>\n",
       "</table>\n",
       "</div>"
      ],
      "text/plain": [
       "   eventNr  detector    localX   localY  globalX   globalY  globalZ  charge  \\\n",
       "0        0  ALPIDE_0   5.21934 -6.06144 -29.5471  -5.19305  6.43856       1   \n",
       "1        0  ALPIDE_0  12.09070 -5.52384 -27.5964 -11.76610  6.97616       1   \n",
       "2       40  ALPIDE_4   8.99130 -5.57760  28.6627   8.85729  6.92240       1   \n",
       "3       48  ALPIDE_1  -8.02053  0.95424 -22.6722   7.87207  7.20424      10   \n",
       "4       48  ALPIDE_2  -7.53196  3.01423 -16.4470   7.31407  3.01423      11   \n",
       "\n",
       "   split  nPixels  columnWidth  rowWidth     timeStamp  ID  \n",
       "0      0        1            1         1  6.456710e+14   0  \n",
       "1      0        1            1         1  6.456710e+14   0  \n",
       "2      0        1            1         1  6.467850e+14   4  \n",
       "3      0       10            4         3  6.469990e+14   1  \n",
       "4      0       11            3         4  6.470000e+14   2  "
      ]
     },
     "execution_count": 175,
     "metadata": {},
     "output_type": "execute_result"
    }
   ],
   "source": [
    "myMap = {\"ALPIDE_0\":0,\"ALPIDE_1\":1,\"ALPIDE_2\":2,\"ALPIDE_3\":3,\"ALPIDE_4\":4}\n",
    "df[\"ID\"] = df[\"detector\"].map(myMap)\n",
    "df.head()"
   ]
  },
  {
   "cell_type": "code",
   "execution_count": 176,
   "id": "4412a63f",
   "metadata": {},
   "outputs": [],
   "source": [
    "aliasArray = [\n",
    "    #(\"ALPIDE_bitmap\",\"0x1*(detector==\\\"ALPIDE_0\\\")\")\n",
    "]"
   ]
  },
  {
   "cell_type": "code",
   "execution_count": 177,
   "id": "59f95d92",
   "metadata": {},
   "outputs": [],
   "source": [
    "histoArray = [\n",
    "        {\"name\": \"hitmap\", \"variables\": [\"localX\",\"localY\"], \"nbins\":[100,100]},\n",
    "    ]\n",
    "\n",
    "figureArray = [\n",
    "    [[(\"bin_bottom_0\", \"bin_top_0\")], [(\"bin_bottom_1\", \"bin_top_1\")], {\"colorZvar\": \"bin_count\", \"source\":\"hitmap\"}],\n",
    "    [['globalZ'], ['globalX'], {\"color\": \"red\", \"size\": 2, \"colorZvar\": \"ID\", \"varZ\": \"globalY\"}],\n",
    "    {\"size\":2, \"legend_options\": {\"label_text_font_size\": \"13px\"}}\n",
    "]"
   ]
  },
  {
   "cell_type": "code",
   "execution_count": 178,
   "id": "d03a081a",
   "metadata": {},
   "outputs": [],
   "source": [
    "layout = {\n",
    "    \"Clusters\": [[0,1]]\n",
    "}\n",
    "\n",
    "widgetParams=[\n",
    "    ['range', ['localX']],\n",
    "    ['range', ['localY']],\n",
    "    ['multiSelect', [\"detector\"]]\n",
    "]\n",
    "widgetLayoutDesc={  \"Selection\": [[0,1,2], {'sizing_mode': 'scale_width'}]  } "
   ]
  },
  {
   "cell_type": "code",
   "execution_count": 179,
   "id": "18dae0a7",
   "metadata": {},
   "outputs": [
    {
     "name": "stderr",
     "output_type": "stream",
     "text": [
      "/home/cehrich/.local/lib/python3.8/site-packages/RootInteractive/InteractiveDrawing/bokeh/bokehTools.py:1446: FutureWarning: Specifying `na_sentinel=None` is deprecated, specify `use_na_sentinel=False` instead.\n",
      "  codes, optionsPlot = pd.factorize(dfCategorical, sort=True, na_sentinel=None)\n"
     ]
    },
    {
     "name": "stdout",
     "output_type": "stream",
     "text": [
      "compressCDSPipe\n",
      "Compress 1 localY .* [('relative', 10), ('code', 0), ('zip', 0), ('base64', 0)]\n",
      "Compress factor 434074 3510578 0.12364744495066055 1 localY\n",
      "Compress 2 localX .* [('relative', 10), ('code', 0), ('zip', 0), ('base64', 0)]\n",
      "Compress factor 435274 3510578 0.1239892690035658 2 localX\n",
      "Compress 3 globalZ .* [('relative', 10), ('code', 0), ('zip', 0), ('base64', 0)]\n",
      "Compress factor 442402 3510579 0.12601966798069492 3 globalZ\n",
      "Compress 4 globalX .* [('relative', 10), ('code', 0), ('zip', 0), ('base64', 0)]\n",
      "Compress factor 302978 3510579 0.08630428200020566 4 globalX\n",
      "Compress 5 globalY .* [('relative', 10), ('code', 0), ('zip', 0), ('base64', 0)]\n",
      "Compress factor 435746 3510579 0.1241236844406578 5 globalY\n",
      "Compress 6 ID .* [('relative', 10), ('code', 0), ('zip', 0), ('base64', 0)]\n",
      "Compress factor 36218 2925598 0.01237969126311954 6 ID\n",
      "Compress 7 detector.factor() .* [('relative', 10), ('code', 0), ('zip', 0), ('base64', 0)]\n",
      "Compress factor 35050 585138 0.05990039956386357 7 detector.factor()\n",
      "Compress _all 2121742 21063629 0.10073012584868447 7\n"
     ]
    },
    {
     "data": {
      "text/plain": [
       "<RootInteractive.InteractiveDrawing.bokeh.bokehDrawSA.bokehDrawSA at 0x7f95e37a17f0>"
      ]
     },
     "execution_count": 179,
     "metadata": {},
     "output_type": "execute_result"
    }
   ],
   "source": [
    "tooltips = []\n",
    "output_file(\"test.html\")\n",
    "arrayCompressionRelative10=[(\".*\",[(\"relative\",10), (\"code\",0), (\"zip\",0), (\"base64\",0)])]\n",
    "arrayCompression=arrayCompressionRelative10\n",
    "bokehDrawSA.fromArray(df, \"split==0\", figureArray, widgetParams, layout=layout, tooltips=tooltips, widgetLayout=widgetLayoutDesc,\n",
    "                      histogramArray=histoArray,aliasArray=aliasArray,arrayCompression=arrayCompression)"
   ]
  },
  {
   "cell_type": "code",
   "execution_count": null,
   "id": "dde809a5",
   "metadata": {},
   "outputs": [],
   "source": []
  },
  {
   "cell_type": "code",
   "execution_count": null,
   "id": "17326a1f",
   "metadata": {},
   "outputs": [],
   "source": []
  },
  {
   "cell_type": "code",
   "execution_count": null,
   "id": "c347b386",
   "metadata": {},
   "outputs": [],
   "source": []
  }
 ],
 "metadata": {
  "kernelspec": {
   "display_name": "Python 3.8.10 64-bit",
   "language": "python",
   "name": "python3"
  },
  "language_info": {
   "codemirror_mode": {
    "name": "ipython",
    "version": 3
   },
   "file_extension": ".py",
   "mimetype": "text/x-python",
   "name": "python",
   "nbconvert_exporter": "python",
   "pygments_lexer": "ipython3",
   "version": "3.8.10"
  },
  "vscode": {
   "interpreter": {
    "hash": "916dbcbb3f70747c44a77c7bcd40155683ae19c65e1c03b4aa3499c5328201f1"
   }
  }
 },
 "nbformat": 4,
 "nbformat_minor": 5
}
