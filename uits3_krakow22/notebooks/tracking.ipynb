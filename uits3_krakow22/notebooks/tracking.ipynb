{
 "cells": [
  {
   "cell_type": "code",
   "execution_count": null,
   "metadata": {},
   "outputs": [],
   "source": [
    "import math\n",
    "\n",
    "import ROOT\n",
    "\n",
    "from uits3_krakow22.src.Event import Event\n",
    "from uits3_krakow22.src.Cluster import Cluster\n",
    "from uits3_krakow22.src.Track import Track\n",
    "from uits3_krakow22.src.Vertex import Vertex\n",
    "from uits3_krakow22.src.Utils import *\n",
    "\n",
    "from ipywidgets import IntProgress\n",
    "from IPython.display import display,HTML,clear_output\n",
    "display(HTML(\"<style>.container { width:95% !important; }</style>\"))\n",
    "display(HTML(\"<style>table {float:left;}</style>\"))"
   ]
  },
  {
   "cell_type": "markdown",
   "metadata": {},
   "source": [
    "### Select events"
   ]
  },
  {
   "cell_type": "code",
   "execution_count": null,
   "metadata": {},
   "outputs": [],
   "source": [
    "path = \"/home/berki/Software/uits3_krakow22/run456195948_221112200957_clusters_2.pkl\"\n",
    "nEvents = -1\n",
    "selectedEvents = []\n",
    "if nEvents > 0 :\n",
    "    f = IntProgress(min=0, max=nEvents, description=\"Processing:\")\n",
    "    display(f)\n",
    "\n",
    "for i,event in enumerate(readEvents(path, nEvents=nEvents)):\n",
    "    if nEvents > 0 and i>0 and i%1e4 == 0: f.value += 1e4\n",
    "    eventStatus = True\n",
    "    for alpide in [\"ALPIDE_0\",\"ALPIDE_1\",\"ALPIDE_2\",\"ALPIDE_3\",\"ALPIDE_4\"]:\n",
    "        clusters = event.selectDetector(alpide)\n",
    "        selectedClusters = [cluster for cluster in clusters if 15 > cluster.size > 7]\n",
    "        if len(selectedClusters) != 1:\n",
    "            eventStatus = False\n",
    "            break\n",
    "    if eventStatus : selectedEvents.append(event)\n",
    "        \n",
    "if f : f.bar_style = \"success\"\n",
    "print(\"Found events:\",len(selectedEvents),\", Fraction:\",len(selectedEvents)*100/nEvents,\"%\")"
   ]
  },
  {
   "cell_type": "markdown",
   "metadata": {},
   "source": [
    "#### Save selected events to file"
   ]
  },
  {
   "cell_type": "code",
   "execution_count": null,
   "metadata": {},
   "outputs": [],
   "source": [
    "path_selected = \"/home/berki/Software/uits3_krakow22/selectedEvents.pkl\"\n",
    "save2pickle(selectedEvents,path_selected)"
   ]
  },
  {
   "cell_type": "markdown",
   "metadata": {},
   "source": [
    "### Add tracks and vertex to events"
   ]
  },
  {
   "cell_type": "code",
   "execution_count": null,
   "metadata": {},
   "outputs": [],
   "source": [
    "events= []\n",
    "for event in readEvents(path_selected):\n",
    "    TrackLeft = Track()\n",
    "    TrackLeft.fromClusters([event.selectDetector(alpide)[0] for alpide in [\"ALPIDE_3\",\"ALPIDE_4\"]])\n",
    "    TrackRight = Track()\n",
    "    TrackRight.fromClusters([event.selectDetector(alpide)[0] for alpide in [\"ALPIDE_0\",\"ALPIDE_1\",\"ALPIDE_2\"]])\n",
    "    vertex = Vertex()\n",
    "    vertex.fromTracks([TrackLeft,TrackRight])\n",
    "    event.addTrack(TrackLeft)\n",
    "    event.addTrack(TrackRight)\n",
    "    event.vertex = vertex\n",
    "    events.append(event)"
   ]
  },
  {
   "cell_type": "markdown",
   "metadata": {},
   "source": [
    "#### Save tracked events to file"
   ]
  },
  {
   "cell_type": "code",
   "execution_count": null,
   "metadata": {},
   "outputs": [],
   "source": [
    "path_tracked = \"/home/berki/Software/uits3_krakow22/trackedEvents.pkl\"\n",
    "save2pickle(events,path_tracked)"
   ]
  },
  {
   "cell_type": "markdown",
   "metadata": {},
   "source": [
    "#### Opening angle"
   ]
  },
  {
   "cell_type": "code",
   "execution_count": null,
   "metadata": {},
   "outputs": [],
   "source": [
    "%jsroot on\n",
    "hOpeningAngle = ROOT.TH1F(\"Angle\",\"Angle\",300,60,120)\n",
    "for event in events:\n",
    "    hOpeningAngle.Fill(event.vertex.openingAngle*360/(2*math.pi))\n",
    "canvas = ROOT.TCanvas()\n",
    "hOpeningAngle.Draw(\"COLZ\")\n",
    "canvas.Draw()"
   ]
  },
  {
   "cell_type": "markdown",
   "metadata": {},
   "source": [
    "#### DCA between two tracks"
   ]
  },
  {
   "cell_type": "code",
   "execution_count": null,
   "metadata": {},
   "outputs": [],
   "source": [
    "%jsroot on\n",
    "hDCA = ROOT.TH1F(\"DCA\",\"DCA\",600,-1,30)\n",
    "for event in events:\n",
    "    if abs(event.vertex.openingAngle - math.pi/2) < 0.05:\n",
    "        hDCA.Fill(event.vertex.dca)\n",
    "canvas = ROOT.TCanvas()\n",
    "hDCA.Draw()\n",
    "canvas.Draw()"
   ]
  },
  {
   "cell_type": "markdown",
   "metadata": {},
   "source": [
    "#### DCA between vertex and [0,0,0]\n",
    "Should probably use [0,0,-10.2] as origin as 0 along beam axis is currently the middle of the first layer"
   ]
  },
  {
   "cell_type": "code",
   "execution_count": null,
   "metadata": {},
   "outputs": [],
   "source": [
    "%jsroot on\n",
    "hDCA2origin = ROOT.TH1F(\"DCAtoOrigin\",\"DCA to [0,0,0]\",400,0,40)\n",
    "for event in events:\n",
    "    #if abs(event.vertex.openingAngle - math.pi/2) < 0.05:\n",
    "    hDCA2origin.Fill(event.vertex.dca2origin)\n",
    "canvas = ROOT.TCanvas()\n",
    "hDCA2origin.Draw()\n",
    "canvas.Draw()"
   ]
  },
  {
   "cell_type": "markdown",
   "metadata": {},
   "source": [
    "#### Vertex positions"
   ]
  },
  {
   "cell_type": "code",
   "execution_count": null,
   "metadata": {},
   "outputs": [],
   "source": [
    "%jsroot on\n",
    "hVertex = ROOT.TH3F(\"VertexXYZ\",\"VertexXYZ\",100,-6,6, 100,-6,6, 100,-24,-12)\n",
    "for event in events:\n",
    "    if abs(event.vertex.openingAngle - math.pi/2) < 0.05 and event.vertex.dca < 2:\n",
    "        hVertex.Fill(event.vertex.point[0],event.vertex.point[1],event.vertex.point[2])\n",
    "    \n",
    "canvas = ROOT.TCanvas()\n",
    "hVertex.Draw()\n",
    "canvas.Draw()"
   ]
  },
  {
   "cell_type": "code",
   "execution_count": null,
   "metadata": {},
   "outputs": [],
   "source": [
    "%jsroot on\n",
    "hVertexXY = ROOT.TH2F(\"VertexXY\",\"VertexXY\",200,-20,20,200,-40,0)\n",
    "hVertexXZ = ROOT.TH2F(\"VertexXZ\",\"VertexXZ\",200,-20,20,200,-20,20)\n",
    "hVertexYZ = ROOT.TH2F(\"VertexYZ\",\"VertexYZ\",200,-40,0,200,-20,20)\n",
    "for event in events:\n",
    "    if abs(event.vertex.openingAngle - math.pi/2) < 0.05 and event.vertex.dca < 2:\n",
    "        hVertexXY.Fill(-event.vertex.point[0],event.vertex.point[2])\n",
    "        hVertexXZ.Fill(-event.vertex.point[0],event.vertex.point[1])\n",
    "        hVertexYZ.Fill(event.vertex.point[2],event.vertex.point[1])\n",
    "    \n",
    "canvas = ROOT.TCanvas(\"\",\"\",1200,400)\n",
    "canvas.Divide(3)\n",
    "canvas.cd(1)\n",
    "hVertexXY.Draw(\"COLZ\")\n",
    "canvas.cd(2)\n",
    "hVertexXZ.Draw(\"COLZ\")\n",
    "canvas.cd(3)\n",
    "hVertexYZ.Draw(\"COLZ\")\n",
    "canvas.Draw()"
   ]
  },
  {
   "cell_type": "markdown",
   "metadata": {},
   "source": [
    "#### Position shift between layers"
   ]
  },
  {
   "cell_type": "code",
   "execution_count": null,
   "metadata": {},
   "outputs": [],
   "source": [
    "%jsroot on\n",
    "alpide1 = \"ALPIDE_0\"\n",
    "alpide2 = \"ALPIDE_1\"\n",
    "hShiftXY = ROOT.TH2F(\"ShiftXY\",\"ShiftXY\",150,-15,15,75,-7.5,7.5)\n",
    "hShiftX = ROOT.TH1F(\"ShiftX\",\"ShiftX\",150,-15,15)\n",
    "hShiftY = ROOT.TH1F(\"ShiftY\",\"ShiftY\",75,-7.5,7.5)\n",
    "for event in events:\n",
    "    if abs(event.vertex.openingAngle - math.pi/2) < 0.05 and event.vertex.dca < 2:\n",
    "        hShiftXY.Fill(event.selectDetector(alpide1)[0].localPos[0]-event.selectDetector(alpide2)[0].localPos[0],\n",
    "                      event.selectDetector(alpide1)[0].localPos[1]-event.selectDetector(alpide2)[0].localPos[1])\n",
    "        hShiftX.Fill(event.selectDetector(alpide1)[0].localPos[0]-event.selectDetector(alpide2)[0].localPos[0])\n",
    "        hShiftY.Fill(event.selectDetector(alpide1)[0].localPos[1]-event.selectDetector(alpide2)[0].localPos[1])\n",
    "canvas = ROOT.TCanvas(\"\",\"\",1200,400)\n",
    "canvas.Divide(3)\n",
    "canvas.cd(1)\n",
    "hShiftXY.Draw(\"COLZ\")\n",
    "canvas.cd(2)\n",
    "hShiftX.Draw()\n",
    "canvas.cd(3)\n",
    "hShiftY.Draw()\n",
    "canvas.Draw()"
   ]
  },
  {
   "cell_type": "markdown",
   "metadata": {},
   "source": [
    "#### Correlation between ALPIDEs after all selections"
   ]
  },
  {
   "cell_type": "code",
   "execution_count": null,
   "metadata": {},
   "outputs": [],
   "source": [
    "%jsroot on\n",
    "\n",
    "nBins = {\"x-Axis\" : 600, \"y-Axis\" : 300}\n",
    "nRange = {\"x-Axis\" : 15, \"y-Axis\" : 7.5}\n",
    "axis = {\"x-Axis\":0, \"y-Axis\":1}\n",
    "\n",
    "detector1 = \"ALPIDE_0\"\n",
    "detector2 = \"ALPIDE_4\"\n",
    "            \n",
    "hCorrXX = ROOT.TH2F(\"Corr_\"+detector1+\"_x-Axis_\"+detector2+\"_x-Axis\",\"Corr_\"+detector1+\"_x-Axis_\"+detector2+\"_x-Axis\", nBins.get(\"x-Axis\"),-nRange.get(\"x-Axis\"),nRange.get(\"x-Axis\"),nBins.get(\"x-Axis\"),-nRange.get(\"x-Axis\"),nRange.get(\"x-Axis\"))\n",
    "hCorrYY = ROOT.TH2F(\"Corr_\"+detector1+\"_y-Axis_\"+detector2+\"_y-Axis\",\"Corr_\"+detector1+\"_y-Axis_\"+detector2+\"_y-Axis\", nBins.get(\"y-Axis\"),-nRange.get(\"y-Axis\"),nRange.get(\"y-Axis\"),nBins.get(\"y-Axis\"),-nRange.get(\"y-Axis\"),nRange.get(\"y-Axis\"))\n",
    "hCorrXX.SetXTitle(detector1 + \" - x-Axis\")\n",
    "hCorrXX.SetYTitle(detector2 + \" - x-Axis\")\n",
    "hCorrYY.SetXTitle(detector1 + \" - y-Axis\")\n",
    "hCorrYY.SetYTitle(detector2 + \" - y-Axis\")\n",
    "\n",
    "for event in events:\n",
    "    if abs(event.vertex.openingAngle - math.pi/2) < 0.05 and event.vertex.dca < 2:\n",
    "        for cluster1 in event.selectDetector(detector1):\n",
    "            for cluster2 in event.selectDetector(detector2):\n",
    "                hCorrXX.Fill(cluster1.localPos[0],cluster2.localPos[0])\n",
    "                hCorrYY.Fill(cluster1.localPos[1],cluster2.localPos[1])\n",
    "                \n",
    "\n",
    "canvas = ROOT.TCanvas(\"\",\"\",1000,500)\n",
    "canvas.Divide(2)\n",
    "canvas.cd(1)\n",
    "hCorrXX.Draw(\"COLZ\")\n",
    "canvas.cd(2)\n",
    "hCorrYY.Draw(\"COLZ\")\n",
    "canvas.Draw()"
   ]
  }
 ],
 "metadata": {
  "kernelspec": {
   "display_name": "Python 3 (ipykernel)",
   "language": "python",
   "name": "python3"
  },
  "language_info": {
   "codemirror_mode": {
    "name": "ipython",
    "version": 3
   },
   "file_extension": ".py",
   "mimetype": "text/x-python",
   "name": "python",
   "nbconvert_exporter": "python",
   "pygments_lexer": "ipython3",
   "version": "3.10.6"
  },
  "toc": {
   "base_numbering": 1,
   "nav_menu": {},
   "number_sections": false,
   "sideBar": false,
   "skip_h1_title": true,
   "title_cell": "Table of Contents",
   "title_sidebar": "Contents",
   "toc_cell": true,
   "toc_position": {},
   "toc_section_display": true,
   "toc_window_display": false
  },
  "vscode": {
   "interpreter": {
    "hash": "31f2aee4e71d21fbe5cf8b01ff0e069b9275f58929596ceb00d14d90e3e16cd6"
   }
  }
 },
 "nbformat": 4,
 "nbformat_minor": 2
}
