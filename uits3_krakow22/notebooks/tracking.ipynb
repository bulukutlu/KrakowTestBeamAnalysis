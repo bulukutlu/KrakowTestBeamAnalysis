{
 "cells": [
  {
   "cell_type": "markdown",
   "metadata": {
    "toc": true
   },
   "source": [
    "<h1>Table of Contents<span class=\"tocSkip\"></span></h1>\n",
    "<div class=\"toc\"><ul class=\"toc-item\"></ul></div>"
   ]
  },
  {
   "cell_type": "code",
   "execution_count": null,
   "metadata": {},
   "outputs": [],
   "source": [
    "from skspatial.objects import Line, Points\n",
    "from skspatial.plotting import plot_3d\n",
    "\n",
    "points = Points([\n",
    "        [0, 0, 0],\n",
    "        [1, 1, 1]],\n",
    ")\n",
    "\n",
    "points2 = Points([\n",
    "        [1, 0, 0],\n",
    "        [1, 1, 0]],\n",
    ")\n",
    "\n",
    "line_fit = Line.best_fit(points)\n",
    "line_fit2 = Line.best_fit(points2)\n",
    "#point_intersection = line_fit.intersect_line(line_fit2)\n",
    "\n",
    "plot_3d(\n",
    "    line_fit.plotter(t_1=-7, t_2=7, c='k'),\n",
    "    points.plotter(c='b', depthshade=False),\n",
    "    line_fit2.plotter(t_1=-7, t_2=7, c='g'),\n",
    "    points2.plotter(c='r', depthshade=False),\n",
    "    #point_intersection.plotter(c='y', s=75)\n",
    ")"
   ]
  },
  {
   "cell_type": "code",
   "execution_count": null,
   "metadata": {},
   "outputs": [],
   "source": [
    "import numpy as np\n",
    "P1 = line_fit.point\n",
    "P2 = line_fit2.point\n",
    "V1 = line_fit.vector\n",
    "V2 = line_fit2.vector\n",
    "V3 = V1.cross(V2)\n",
    "\n",
    "A = [[V1[0],-V2[0],V3[0]],[V1[1],-V2[1],V3[1]],[V1[2],-V2[2],V3[2]]]\n",
    "B = [[P1[0]-P2[0]],[P1[1]-P2[1]],[P1[2]-P2[2]]]\n",
    "\n",
    "x = np.linalg.solve(A, B)\n",
    "dca = x[2]*V3.norm()\n",
    "dca"
   ]
  },
  {
   "cell_type": "markdown",
   "metadata": {},
   "source": [
    "𝑃1+𝑡1𝑉1+𝑡3𝑉3=𝑃2+𝑡2𝑉2"
   ]
  },
  {
   "cell_type": "markdown",
   "metadata": {},
   "source": []
  },
  {
   "cell_type": "code",
   "execution_count": null,
   "metadata": {},
   "outputs": [],
   "source": []
  }
 ],
 "metadata": {
  "kernelspec": {
   "display_name": "Python 3 (ipykernel)",
   "language": "python",
   "name": "python3"
  },
  "language_info": {
   "codemirror_mode": {
    "name": "ipython",
    "version": 3
   },
   "file_extension": ".py",
   "mimetype": "text/x-python",
   "name": "python",
   "nbconvert_exporter": "python",
   "pygments_lexer": "ipython3",
   "version": "3.10.6"
  },
  "toc": {
   "base_numbering": 1,
   "nav_menu": {},
   "number_sections": false,
   "sideBar": false,
   "skip_h1_title": true,
   "title_cell": "Table of Contents",
   "title_sidebar": "Contents",
   "toc_cell": true,
   "toc_position": {},
   "toc_section_display": true,
   "toc_window_display": false
  },
  "vscode": {
   "interpreter": {
    "hash": "31f2aee4e71d21fbe5cf8b01ff0e069b9275f58929596ceb00d14d90e3e16cd6"
   }
  }
 },
 "nbformat": 4,
 "nbformat_minor": 2
}
