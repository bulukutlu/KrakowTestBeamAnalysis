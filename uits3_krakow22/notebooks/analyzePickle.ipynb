{
 "cells": [
  {
   "cell_type": "code",
   "execution_count": null,
   "id": "6add3645",
   "metadata": {},
   "outputs": [],
   "source": [
    "from ipywidgets import IntProgress\n",
    "from IPython.display import display,HTML,clear_output\n",
    "import time\n",
    "import ROOT\n",
    "import numpy as np\n",
    "import matplotlib.pyplot as plt\n",
    "import pickle\n",
    "import ipywidgets as widgets\n",
    "from uits3_krakow22.src.Event import Event\n",
    "from uits3_krakow22.src.Cluster import Cluster\n",
    "from uits3_krakow22.src.Track import Track\n",
    "\n",
    "display(HTML(\"<style>.container { width:95% !important; }</style>\"))\n",
    "display(HTML(\"<style>table {float:left;}</style>\"))"
   ]
  },
  {
   "cell_type": "code",
   "execution_count": null,
   "id": "4ff0ad19",
   "metadata": {},
   "outputs": [],
   "source": [
    "nBins = {\"x-Axis\" : 300, \"y-Axis\" : 150}\n",
    "nRange = {\"x-Axis\" : 15, \"y-Axis\" : 7.5}\n",
    "axis = {\"x-Axis\":0, \"y-Axis\":1}\n",
    "\n",
    "detector1 = \"ALPIDE_0\"\n",
    "detector2 = \"ALPIDE_1\"\n",
    "axis1=\"x-Axis\"\n",
    "axis2=\"x-Axis\"\n",
    "            \n",
    "hCorr = ROOT.TH2F(\"Corr_\"+detector1+\"_\"+axis1+\"_\"+detector2+\"_\"+axis2,\"Correlation\", nBins.get(axis1),-nRange.get(axis1),nRange.get(axis1),nBins.get(axis2),-nRange.get(axis2),nRange.get(axis2))\n",
    "hCorr.SetXTitle(detector1 + \" - \" + axis1)\n",
    "hCorr.SetYTitle(detector2 + \" - \" + axis2)"
   ]
  },
  {
   "cell_type": "code",
   "execution_count": null,
   "id": "c9441301",
   "metadata": {},
   "outputs": [],
   "source": [
    "path = \"/home/berki/Software/uits3_krakow22/run456195948_221112200957_clusters.pkl\"\n",
    "with (open(path, \"rb\")) as openfile:\n",
    "    while True:\n",
    "        try:\n",
    "            events = pickle.load(openfile)\n",
    "        except EOFError:\n",
    "            break\n",
    "        else :\n",
    "            print(\"New file\")\n",
    "            for event in events:\n",
    "                clustersDetector1 = event.selectDetector(detector1)\n",
    "                clustersDetector2 = event.selectDetector(detector2)\n",
    "                selectedClusters1 = [cluster for cluster in clustersDetector1 if 15 > cluster.size > 7]\n",
    "                selectedClusters2 = [cluster for cluster in clustersDetector2 if 15 > cluster.size > 7]\n",
    "                if len(selectedClusters1) == 1 and len(selectedClusters2) == 1:\n",
    "                    for cluster1 in clustersDetector1:\n",
    "                        for cluster2 in clustersDetector2:\n",
    "                            hCorr.Fill(cluster1.localPos[axis.get(axis1)],cluster2.localPos[axis.get(axis2)])"
   ]
  },
  {
   "cell_type": "code",
   "execution_count": null,
   "id": "32c4a4bb",
   "metadata": {},
   "outputs": [],
   "source": [
    "%jsroot on\n",
    "canvas = ROOT.TCanvas()\n",
    "hCorr.Draw(\"COLZ\")\n",
    "canvas.Draw()"
   ]
  }
 ],
 "metadata": {
  "kernelspec": {
   "display_name": "Python 3 (ipykernel)",
   "language": "python",
   "name": "python3"
  },
  "language_info": {
   "codemirror_mode": {
    "name": "ipython",
    "version": 3
   },
   "file_extension": ".py",
   "mimetype": "text/x-python",
   "name": "python",
   "nbconvert_exporter": "python",
   "pygments_lexer": "ipython3",
   "version": "3.10.6"
  }
 },
 "nbformat": 4,
 "nbformat_minor": 5
}
