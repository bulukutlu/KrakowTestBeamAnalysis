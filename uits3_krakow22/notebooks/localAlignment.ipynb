{
 "cells": [
  {
   "cell_type": "markdown",
   "metadata": {
    "toc": true
   },
   "source": [
    "<h1>Table of Contents<span class=\"tocSkip\"></span></h1>\n",
    "<div class=\"toc\"><ul class=\"toc-item\"><li><ul class=\"toc-item\"><li><span><a href=\"#Select-events\" data-toc-modified-id=\"Select-events-0.1\">Select events</a></span><ul class=\"toc-item\"><li><span><a href=\"#Save-selected-events-to-file\" data-toc-modified-id=\"Save-selected-events-to-file-0.1.1\">Save selected events to file</a></span></li></ul></li><li><span><a href=\"#Align-clusters\" data-toc-modified-id=\"Align-clusters-0.2\">Align clusters</a></span></li><li><span><a href=\"#Add-tracks-and-vertex-to-events\" data-toc-modified-id=\"Add-tracks-and-vertex-to-events-0.3\">Add tracks and vertex to events</a></span><ul class=\"toc-item\"><li><span><a href=\"#Save-tracked-events-to-file\" data-toc-modified-id=\"Save-tracked-events-to-file-0.3.1\">Save tracked events to file</a></span></li><li><span><a href=\"#Opening-angle\" data-toc-modified-id=\"Opening-angle-0.3.2\">Opening angle</a></span></li><li><span><a href=\"#DCA-between-two-tracks\" data-toc-modified-id=\"DCA-between-two-tracks-0.3.3\">DCA between two tracks</a></span></li><li><span><a href=\"#DCA-between-vertex-and-[0,0,0]\" data-toc-modified-id=\"DCA-between-vertex-and-[0,0,0]-0.3.4\">DCA between vertex and [0,0,0]</a></span></li></ul></li></ul></li><li><span><a href=\"#Very-clean-events\" data-toc-modified-id=\"Very-clean-events-1\">Very clean events</a></span><ul class=\"toc-item\"><li><ul class=\"toc-item\"><li><span><a href=\"#Vertex-positions\" data-toc-modified-id=\"Vertex-positions-1.0.1\">Vertex positions</a></span></li><li><span><a href=\"#Position-shift-between-layers\" data-toc-modified-id=\"Position-shift-between-layers-1.0.2\">Position shift between layers</a></span></li><li><span><a href=\"#Correlation-between-ALPIDEs-after-all-selections\" data-toc-modified-id=\"Correlation-between-ALPIDEs-after-all-selections-1.0.3\">Correlation between ALPIDEs after all selections</a></span></li></ul></li></ul></li></ul></div>"
   ]
  },
  {
   "cell_type": "code",
   "execution_count": null,
   "metadata": {},
   "outputs": [],
   "source": [
    "import math\n",
    "\n",
    "import ROOT\n",
    "\n",
    "from uits3_krakow22.src.Event import Event\n",
    "from uits3_krakow22.src.Cluster import Cluster\n",
    "from uits3_krakow22.src.Track import Track\n",
    "from uits3_krakow22.src.Vertex import Vertex\n",
    "from uits3_krakow22.src.Utils import *\n",
    "\n",
    "from ipywidgets import IntProgress\n",
    "import matplotlib.pyplot as plt\n",
    "from IPython.display import display,HTML,clear_output\n",
    "display(HTML(\"<style>.container { width:95% !important; }</style>\"))\n",
    "display(HTML(\"<style>table {float:left;}</style>\"))"
   ]
  },
  {
   "cell_type": "markdown",
   "metadata": {},
   "source": [
    "### Select events"
   ]
  },
  {
   "cell_type": "code",
   "execution_count": null,
   "metadata": {},
   "outputs": [],
   "source": [
    "path = \"/home/berki/Software/uits3_krakow22/run456195948_221112200957.pkl\"\n",
    "nEvents = -1\n",
    "selectedEvents = []\n",
    "if nEvents > 0 :\n",
    "    f = IntProgress(min=0, max=nEvents, description=\"Processing:\")\n",
    "    display(f)\n",
    "\n",
    "for i,event in enumerate(readEvents(path, nEvents=nEvents)):\n",
    "    if nEvents > 0 and i>0 and i%1e4 == 0: f.value += 1e4\n",
    "    eventStatus = True\n",
    "    for alpide in [\"ALPIDE_0\",\"ALPIDE_1\",\"ALPIDE_2\",\"ALPIDE_3\",\"ALPIDE_4\"]:\n",
    "        clusters = event.selectDetector(alpide)\n",
    "        selectedClusters = [cluster for cluster in clusters if 15 > cluster.size > 7]\n",
    "        if len(selectedClusters) != 1:\n",
    "            eventStatus = False\n",
    "            break\n",
    "    if eventStatus : selectedEvents.append(event)\n",
    "        \n",
    "if f : f.bar_style = \"success\"\n",
    "print(\"Found events:\",len(selectedEvents),\", Fraction:\",len(selectedEvents)*100/nEvents,\"%\")"
   ]
  },
  {
   "cell_type": "markdown",
   "metadata": {},
   "source": [
    "#### Save selected events to file"
   ]
  },
  {
   "cell_type": "code",
   "execution_count": null,
   "metadata": {},
   "outputs": [],
   "source": [
    "path_selected = \"/home/berki/Software/uits3_krakow22/selectedEvents.pkl\"\n",
    "save2pickle(selectedEvents,path_selected)"
   ]
  },
  {
   "cell_type": "markdown",
   "metadata": {},
   "source": [
    "### Align clusters"
   ]
  },
  {
   "cell_type": "code",
   "execution_count": null,
   "metadata": {},
   "outputs": [],
   "source": [
    "displacements = {\n",
    "        \"ALPIDE_0\" : [0,0,0],\n",
    "        \"ALPIDE_1\" : [1.0, 0, 0],\n",
    "        \"ALPIDE_2\" : [0,0,0],\n",
    "        \"ALPIDE_3\" : [0.1875, 0.1875,0],\n",
    "        \"ALPIDE_4\" : [0.0, -0.03125, 0] \n",
    "}\n",
    "\n",
    "displacements0 = {\n",
    "    \"ALPIDE_0\" : [0,0,0], # anchor\n",
    "    \"ALPIDE_1\" : [1.156+0.05531,0.2837-0.03655,0],\n",
    "    \"ALPIDE_2\" : [0.06475+0.2488,0.08900-0.03316,0],\n",
    "    \"ALPIDE_3\" : [1.426-0.1012,0.7004-1.116,0],\n",
    "    \"ALPIDE_4\" : [0.5261+0.5159,1.102-1.372,0],\n",
    "}\n",
    "\n",
    "displacements1 = {\n",
    "    \"ALPIDE_0\" : [-1.211,-0.2472,0], \n",
    "    \"ALPIDE_1\" : [0,0,0],# anchor\n",
    "    \"ALPIDE_2\" : [-0.7214,0.4154,0],\n",
    "    \"ALPIDE_3\" : [0.4301,-0.02330,0],\n",
    "    \"ALPIDE_4\" : [0.48375,0.01058,0],\n",
    "}\n",
    "\n",
    "displacements2 = {\n",
    "    \"ALPIDE_0\" : [-0.3135,-0.05585,0], \n",
    "    \"ALPIDE_1\" : [0.7214,-0.4154,0],\n",
    "    \"ALPIDE_2\" : [0,0,0],# anchor\n",
    "    \"ALPIDE_3\" : [0.8794,-0.1445,0],\n",
    "    \"ALPIDE_4\" : [0.9993,-0.1880,0],\n",
    "}\n",
    "\n",
    "displacements3 = {\n",
    "    \"ALPIDE_0\" : [-1.321,0.4156,0], \n",
    "    \"ALPIDE_1\" : [-0.4301,0.02330,0],\n",
    "    \"ALPIDE_2\" : [-0.8794,0.1445,0],\n",
    "    \"ALPIDE_3\" : [0,0,0],# anchor\n",
    "    \"ALPIDE_4\" : [-0.1492,0.8093,0],\n",
    "}\n",
    "\n",
    "displacements4 = {\n",
    "    \"ALPIDE_0\" : [-1.042,0.2698,0], \n",
    "    \"ALPIDE_1\" : [-0.4837,-0.01058,0],\n",
    "    \"ALPIDE_2\" : [-0.9960,0.1885,0],\n",
    "    \"ALPIDE_3\" : [0.1492,-0.80930,0],\n",
    "    \"ALPIDE_4\" : [0,0,0],# anchor\n",
    "}\n",
    "\n"
   ]
  },
  {
   "cell_type": "code",
   "execution_count": null,
   "metadata": {},
   "outputs": [],
   "source": [
    "events= []\n",
    "for event in loadEvents(path_selected):\n",
    "    for cluster in event.clusters:\n",
    "        cluster.alignLocal(displacements4.get(cluster.detector))\n",
    "    events.append(event)"
   ]
  },
  {
   "cell_type": "markdown",
   "metadata": {},
   "source": [
    "### Add tracks and vertex to events"
   ]
  },
  {
   "cell_type": "code",
   "execution_count": null,
   "metadata": {},
   "outputs": [],
   "source": [
    "path_selected = \"/home/berki/Software/uits3_krakow22/selectedEvents.pkl\"\n",
    "events= []\n",
    "for event in loadEvents(path_selected):\n",
    "    TrackLeft = Track()\n",
    "    TrackLeft.fromClusters([event.selectDetector(alpide)[0] for alpide in [\"ALPIDE_3\",\"ALPIDE_4\"]])\n",
    "    TrackRight = Track()\n",
    "    TrackRight.fromClusters([event.selectDetector(alpide)[0] for alpide in [\"ALPIDE_0\",\"ALPIDE_1\",\"ALPIDE_2\"]])\n",
    "    vertex = Vertex()\n",
    "    vertex.fromTracks([TrackLeft,TrackRight])\n",
    "    event.addTrack(TrackLeft)\n",
    "    event.addTrack(TrackRight)\n",
    "    event.vertex = vertex\n",
    "    events.append(event)"
   ]
  },
  {
   "cell_type": "markdown",
   "metadata": {},
   "source": [
    "#### Save tracked events to file"
   ]
  },
  {
   "cell_type": "code",
   "execution_count": null,
   "metadata": {},
   "outputs": [],
   "source": [
    "path_tracked = \"/home/berki/Software/uits3_krakow22/trackedEvents.pkl\"\n",
    "save2pickle(events,path_tracked)"
   ]
  },
  {
   "cell_type": "markdown",
   "metadata": {},
   "source": [
    "#### Opening angle"
   ]
  },
  {
   "cell_type": "code",
   "execution_count": null,
   "metadata": {},
   "outputs": [],
   "source": [
    "%jsroot on\n",
    "hOpeningAngle = ROOT.TH1F(\"Angle\",\"Angle\",300,80,100)\n",
    "hOpeningAngle.GetXaxis().SetTitle(\"Opening angle between two tracks [°]\")\n",
    "hOpeningAngle.GetYaxis().SetTitle(\"Count\")\n",
    "for event in events:\n",
    "    hOpeningAngle.Fill(event.vertex.openingAngle*360/(2*math.pi))\n",
    "canvas = ROOT.TCanvas()\n",
    "canvas.SetGridx(2)\n",
    "hOpeningAngle.Draw(\"\")\n",
    "canvas.Draw()"
   ]
  },
  {
   "cell_type": "code",
   "execution_count": null,
   "metadata": {},
   "outputs": [],
   "source": [
    "%jsroot on\n",
    "hRMS = ROOT.TH1F(\"RMS cluster\",\"RMS Cluster\",22*5,-0.1,2.1)\n",
    "hRMS.GetXaxis().SetTitle(\"RMS(cluster distance in track) [mm]\")\n",
    "hRMS.GetYaxis().SetTitle(\"Count\")\n",
    "for event in events:\n",
    "    for track in event.tracks:\n",
    "        if track.nClusters == 3:\n",
    "            hRMS.Fill(track.rms)\n",
    "canvas = ROOT.TCanvas()\n",
    "canvas.SetGridx(2)\n",
    "hRMS.Draw(\"\")\n",
    "canvas.Draw()\n",
    "print(\"Mean\",np.mean(rmsVals),\"Med\",np.median(rmsVals))"
   ]
  },
  {
   "cell_type": "markdown",
   "metadata": {},
   "source": [
    "#### DCA between two tracks"
   ]
  },
  {
   "cell_type": "code",
   "execution_count": null,
   "metadata": {},
   "outputs": [],
   "source": [
    "%jsroot on\n",
    "hDCA = ROOT.TH1F(\"DCA\",\"DCA between tracks\",500,-0.1,5.1)\n",
    "hDCA.GetXaxis().SetTitle(\"DCA between the tracks from 2 arms [mm]\")\n",
    "hDCA.GetYaxis().SetTitle(\"Count\")\n",
    "for event in events:\n",
    "    #if abs(event.vertex.openingAngle - math.pi/2) < 0.05:\n",
    "    if 88 < event.vertex.openingAngle*360/(2*math.pi) < 92:\n",
    "        hDCA.Fill(event.vertex.dca)\n",
    "canvas = ROOT.TCanvas()\n",
    "canvas.SetGridx(2)\n",
    "hDCA.Draw()\n",
    "canvas.Draw()"
   ]
  },
  {
   "cell_type": "markdown",
   "metadata": {},
   "source": [
    "#### DCA between vertex and [0,0,0]\n",
    "Should probably use [0,0,-10.2] as origin as 0 along beam axis is currently the middle of the first layer"
   ]
  },
  {
   "cell_type": "code",
   "execution_count": null,
   "metadata": {},
   "outputs": [],
   "source": [
    "%jsroot on\n",
    "hDCA2origin = ROOT.TH1F(\"DCAtoOrigin\",\"DCA to (0,0,0)\",400,12,26)\n",
    "hDCA2origin.GetXaxis().SetTitle(\"Distance of vertex to (0,0,0) [mm]\")\n",
    "hDCA2origin.GetYaxis().SetTitle(\"Count\")\n",
    "for event in events:\n",
    "    if 86 < event.vertex.openingAngle*360/(2*math.pi) < 90:\n",
    "        hDCA2origin.Fill(event.vertex.dca2origin)\n",
    "canvas = ROOT.TCanvas()\n",
    "canvas.SetGridx(2)\n",
    "hDCA2origin.Draw()\n",
    "canvas.Draw()"
   ]
  },
  {
   "cell_type": "markdown",
   "metadata": {},
   "source": [
    "## Very clean events"
   ]
  },
  {
   "cell_type": "code",
   "execution_count": null,
   "metadata": {},
   "outputs": [],
   "source": [
    "verySelectedEvents = []\n",
    "for event in loadEvents(path_tracked):\n",
    "    if 89 < event.vertex.openingAngle*360/(2*math.pi) < 92 and abs(event.vertex.dca2origin - 18.75) < 2 and event.vertex.dca < 2:\n",
    "        verySelectedEvents.append(event)\n"
   ]
  },
  {
   "cell_type": "code",
   "execution_count": null,
   "metadata": {},
   "outputs": [],
   "source": [
    "len(verySelectedEvents)\n",
    "path_clean = \"/home/berki/Software/uits3_krakow22/cleanEvents.pkl\"\n",
    "save2pickle(verySelectedEvents,path_clean)"
   ]
  },
  {
   "cell_type": "markdown",
   "metadata": {},
   "source": [
    "#### Vertex positions"
   ]
  },
  {
   "cell_type": "code",
   "execution_count": null,
   "metadata": {
    "scrolled": false
   },
   "outputs": [],
   "source": [
    "%jsroot on\n",
    "hVertexXY = ROOT.TH2F(\"VertexXY\",\"VertexXY\",100,-5,5,100,-5,5)\n",
    "hVertexXY.GetXaxis().SetTitle(\"Vertex X position [mm]\")\n",
    "hVertexXY.GetYaxis().SetTitle(\"Vertex Y position [mm]\")\n",
    "hVertexXZ = ROOT.TH2F(\"VertexXZ\",\"VertexXZ\",100,-5,5,100,-23,-15)\n",
    "hVertexXZ.GetXaxis().SetTitle(\"Vertex X position [mm]\")\n",
    "hVertexXZ.GetYaxis().SetTitle(\"Vertex Z position [mm]\")\n",
    "hVertexYZ = ROOT.TH2F(\"VertexYZ\",\"VertexYZ\",100,-5,5,100,-23,-15)\n",
    "hVertexYZ.GetXaxis().SetTitle(\"Vertex Y position [mm]\")\n",
    "hVertexYZ.GetYaxis().SetTitle(\"Vertex Z position [mm]\")\n",
    "for event in events:\n",
    "    if 86 < (event.vertex.openingAngle*360/(2*math.pi)) < 90 and event.vertex.dca < 3 and 16 < event.vertex.dca2origin < 20:\n",
    "        hVertexXY.Fill(-event.vertex.point[0],event.vertex.point[1])\n",
    "        hVertexXZ.Fill(-event.vertex.point[0],event.vertex.point[2])\n",
    "        hVertexYZ.Fill(event.vertex.point[1],event.vertex.point[2])\n",
    "    \n",
    "canvas = ROOT.TCanvas(\"\",\"\",1200,400)\n",
    "canvas.Divide(3)\n",
    "canvas.cd(1)\n",
    "ROOT.gPad.SetGrid(2)\n",
    "hVertexXY.Draw(\"COLZ\")\n",
    "canvas.cd(2)\n",
    "ROOT.gPad.SetGrid(2)\n",
    "hVertexXZ.Draw(\"COLZ\")\n",
    "canvas.cd(3)\n",
    "ROOT.gPad.SetGrid(2)\n",
    "hVertexYZ.Draw(\"COLZ\")\n",
    "canvas.Draw()"
   ]
  },
  {
   "cell_type": "markdown",
   "metadata": {},
   "source": [
    "#### Position shift between layers"
   ]
  },
  {
   "cell_type": "code",
   "execution_count": null,
   "metadata": {},
   "outputs": [],
   "source": [
    "%jsroot on\n",
    "alpide1 = \"ALPIDE_1\"\n",
    "alpide2 = \"ALPIDE_2\"\n",
    "hShiftXY = ROOT.TH2F(\"ShiftXY\",\"ShiftXY\",150,-15,15,75,-7.5,7.5)\n",
    "hShiftX = ROOT.TH1F(\"ShiftX\",\"ShiftX\",150,-15,15)\n",
    "hShiftY = ROOT.TH1F(\"ShiftY\",\"ShiftY\",75,-7.5,7.5)\n",
    "for event in events:\n",
    "    if abs(event.vertex.openingAngle - math.pi/2) < 0.05 and event.vertex.dca < 2:\n",
    "        hShiftXY.Fill(event.selectDetector(alpide1)[0].localPos[0]-event.selectDetector(alpide2)[0].localPos[0],\n",
    "                      event.selectDetector(alpide1)[0].localPos[1]-event.selectDetector(alpide2)[0].localPos[1])\n",
    "        hShiftX.Fill(event.selectDetector(alpide1)[0].localPos[0]-event.selectDetector(alpide2)[0].localPos[0])\n",
    "        hShiftY.Fill(event.selectDetector(alpide1)[0].localPos[1]-event.selectDetector(alpide2)[0].localPos[1])\n",
    "canvas = ROOT.TCanvas(\"\",\"\",1200,400)\n",
    "canvas.Divide(3)\n",
    "canvas.cd(1)\n",
    "hShiftXY.Draw(\"COLZ\")\n",
    "canvas.cd(2)\n",
    "hShiftX.Draw()\n",
    "canvas.cd(3)\n",
    "hShiftY.Draw()\n",
    "canvas.Draw()"
   ]
  },
  {
   "cell_type": "markdown",
   "metadata": {},
   "source": [
    "#### Correlation between ALPIDEs after all selections"
   ]
  },
  {
   "cell_type": "code",
   "execution_count": null,
   "metadata": {},
   "outputs": [],
   "source": [
    "%jsroot on\n",
    "\n",
    "nBins = {\"x-Axis\" : 600, \"y-Axis\" : 300}\n",
    "nRange = {\"x-Axis\" : 15, \"y-Axis\" : 7.5}\n",
    "axis = {\"x-Axis\":0, \"y-Axis\":1}\n",
    "\n",
    "detector1 = \"ALPIDE_0\"\n",
    "detector2 = \"ALPIDE_4\"\n",
    "            \n",
    "hCorrXX = ROOT.TH2F(\"Corr_\"+detector1+\"_x-Axis_\"+detector2+\"_x-Axis\",\"Corr_\"+detector1+\"_x-Axis_\"+detector2+\"_x-Axis\", nBins.get(\"x-Axis\"),-nRange.get(\"x-Axis\"),nRange.get(\"x-Axis\"),nBins.get(\"x-Axis\"),-nRange.get(\"x-Axis\"),nRange.get(\"x-Axis\"))\n",
    "hCorrYY = ROOT.TH2F(\"Corr_\"+detector1+\"_y-Axis_\"+detector2+\"_y-Axis\",\"Corr_\"+detector1+\"_y-Axis_\"+detector2+\"_y-Axis\", nBins.get(\"y-Axis\"),-nRange.get(\"y-Axis\"),nRange.get(\"y-Axis\"),nBins.get(\"y-Axis\"),-nRange.get(\"y-Axis\"),nRange.get(\"y-Axis\"))\n",
    "hCorrXX.SetXTitle(detector1 + \" - x-Axis [mm]\")\n",
    "hCorrXX.SetYTitle(detector2 + \" - x-Axis [mm]\")\n",
    "hCorrYY.SetXTitle(detector1 + \" - y-Axis [mm]\")\n",
    "hCorrYY.SetYTitle(detector2 + \" - y-Axis [mm]\")\n",
    "\n",
    "for event in events:\n",
    "    if abs(event.vertex.openingAngle - math.pi/2) < 0.05 and event.vertex.dca < 1:\n",
    "        for cluster1 in event.selectDetector(detector1):\n",
    "            for cluster2 in event.selectDetector(detector2):\n",
    "                hCorrXX.Fill(cluster1.localPos[0],cluster2.localPos[0])\n",
    "                hCorrYY.Fill(cluster1.localPos[1],cluster2.localPos[1])\n",
    "                \n",
    "\n",
    "canvas = ROOT.TCanvas(\"\",\"\",1000,500)\n",
    "canvas.Divide(2)\n",
    "canvas.cd(1)\n",
    "hCorrXX.Draw(\"COLZ\")\n",
    "canvas.cd(2)\n",
    "hCorrYY.Draw(\"COLZ\")\n",
    "canvas.Draw()"
   ]
  },
  {
   "cell_type": "markdown",
   "metadata": {},
   "source": [
    "# Scan alignment"
   ]
  },
  {
   "cell_type": "code",
   "execution_count": null,
   "metadata": {},
   "outputs": [],
   "source": [
    "selectedEvents = [event for event in readEvents(\"/home/berki/Software/uits3_krakow22/selectedEvents.pkl\")]"
   ]
  },
  {
   "cell_type": "code",
   "execution_count": null,
   "metadata": {
    "scrolled": false
   },
   "outputs": [],
   "source": [
    "import numpy as np\n",
    "detectors = [\"ALPIDE_0\",\"ALPIDE_1\",\"ALPIDE_2\"]\n",
    "\n",
    "displacements = [{\n",
    "    \"ALPIDE_0\" : [0,0,0], # anchor\n",
    "    \"ALPIDE_1\" : [1,0,0],\n",
    "    \"ALPIDE_2\" : [0,0,0],\n",
    "}]\n",
    "\n",
    "#displacements = [[i/10,j/10] for i in range(10,15,1) for j in range(0,5,1)]\n",
    "#displacements = [[1.2113099999999999, 0.24715]]\n",
    "performance = []\n",
    "for displacement in displacements:\n",
    "    rmsVals = []\n",
    "    for event in readEvents(\"/home/berki/Software/uits3_krakow22/selectedEvents.pkl\"):\n",
    "        #event.selectDetector(\"ALPIDE_1\")[0].alignLocal(displacement.get(\"A\"))\n",
    "        track = Track()\n",
    "        track.fromClusters([event.selectDetector(alpide)[0].alignLocal(displacement.get(alpide)) for alpide in detectors])\n",
    "        rmsVals.append(track.rms)\n",
    "    goodness = np.median(rmsVals)\n",
    "    performance.append(goodness)\n",
    "    print(displacement,\":\",goodness)"
   ]
  },
  {
   "cell_type": "markdown",
   "metadata": {},
   "source": [
    "Going to process all events.\n",
    "{'ALPIDE_0': [0, 0, 0], 'ALPIDE_1': [1, 0, 0], 'ALPIDE_2': [0, 0, 0]} : 0.034732187302410344"
   ]
  },
  {
   "cell_type": "code",
   "execution_count": null,
   "metadata": {},
   "outputs": [],
   "source": [
    "import matplotlib.pyplot as plt\n",
    "plt.hist(rmsVals,1000)\n"
   ]
  },
  {
   "cell_type": "code",
   "execution_count": null,
   "metadata": {},
   "outputs": [],
   "source": [
    "myCorners = [[i,j] for i in [-1,1] for j in [-1,1]]\n",
    "myCorners"
   ]
  },
  {
   "cell_type": "code",
   "execution_count": null,
   "metadata": {},
   "outputs": [],
   "source": [
    "def evalDisplacement(displacement):\n",
    "    dcaVals = []\n",
    "    for event in loadEvents(\"/home/berki/Software/uits3_krakow22/cleanEvents.pkl\"):\n",
    "        TrackLeft = Track()\n",
    "        TrackLeft.fromClusters([event.selectDetector(alpide)[0].alignLocal(displacement.get(alpide)) for alpide in [\"ALPIDE_3\",\"ALPIDE_4\"]])\n",
    "        TrackRight = Track()\n",
    "        TrackRight.fromClusters([event.selectDetector(alpide)[0].alignLocal(displacement.get(alpide)) for alpide in [\"ALPIDE_0\",\"ALPIDE_1\",\"ALPIDE_2\"]])\n",
    "        vertex = Vertex()\n",
    "        vertex.fromTracks([TrackLeft,TrackRight])\n",
    "        dcaVals.append(vertex.dca)\n",
    "    goodness = np.median(dcaVals)\n",
    "    print(\"Evaluated\",displacement,\". Got\",goodness)\n",
    "    return goodness\n",
    "\n",
    "def findBest(x1,x2,y1,y2,step):\n",
    "    print(\"Round\",step)\n",
    "    corners = [[x,y,0] for x in [x1,x2] for y in [y1,y2]]\n",
    "    displacements = [{\n",
    "        \"ALPIDE_0\" : [0,0,0],\n",
    "        \"ALPIDE_1\" : [1.03125, -0.96875, 0],\n",
    "        \"ALPIDE_2\" : [0,0,0],\n",
    "        \"ALPIDE_3\" : [0.1875, 0.1875,0],\n",
    "        \"ALPIDE_4\" : [0.0, -0.03125, 0],\n",
    "    } for corner in corners]\n",
    "\n",
    "    results = [evalDisplacement(displacement) for displacement in displacements]\n",
    "    winner = results.index(min(results))\n",
    "    print(\"Winner of round\",step,\"is\",corners[winner],\"with\",results[winner])\n",
    "    if step <= 0 :\n",
    "        return [results[winner],corners[winner]]\n",
    "    else : \n",
    "        findBest(corners[winner][0],(x1+x2)/2,corners[winner][1],(y1+y2)/2, step-1)\n",
    "    "
   ]
  },
  {
   "cell_type": "code",
   "execution_count": null,
   "metadata": {
    "scrolled": false
   },
   "outputs": [],
   "source": [
    "findBest(-2,2,-2,2,6)"
   ]
  },
  {
   "cell_type": "markdown",
   "metadata": {},
   "source": [
    "[0.375, 0.375, 0]"
   ]
  },
  {
   "cell_type": "code",
   "execution_count": null,
   "metadata": {},
   "outputs": [],
   "source": [
    "def loadEvents(filename):\n",
    "    with open(filename, \"rb\") as f:\n",
    "        events = pickle.load(f)\n",
    "        return events"
   ]
  },
  {
   "cell_type": "code",
   "execution_count": null,
   "metadata": {},
   "outputs": [],
   "source": []
  }
 ],
 "metadata": {
  "kernelspec": {
   "display_name": "Python 3 (ipykernel)",
   "language": "python",
   "name": "python3"
  },
  "language_info": {
   "codemirror_mode": {
    "name": "ipython",
    "version": 3
   },
   "file_extension": ".py",
   "mimetype": "text/x-python",
   "name": "python",
   "nbconvert_exporter": "python",
   "pygments_lexer": "ipython3",
   "version": "3.10.6"
  },
  "toc": {
   "base_numbering": 1,
   "nav_menu": {},
   "number_sections": false,
   "sideBar": false,
   "skip_h1_title": true,
   "title_cell": "Table of Contents",
   "title_sidebar": "Contents",
   "toc_cell": true,
   "toc_position": {},
   "toc_section_display": true,
   "toc_window_display": false
  },
  "vscode": {
   "interpreter": {
    "hash": "31f2aee4e71d21fbe5cf8b01ff0e069b9275f58929596ceb00d14d90e3e16cd6"
   }
  }
 },
 "nbformat": 4,
 "nbformat_minor": 2
}
