{
 "cells": [
  {
   "cell_type": "markdown",
   "id": "abde61f2",
   "metadata": {},
   "source": [
    "# Example notebook for analysing event and cluster data from Krakow Test Beam\n",
    "+ I give some example histograms with various cuts and stuff\n",
    "+ Important was to establish the procedure for getting the corryvreckan data and looping over the trees"
   ]
  },
  {
   "cell_type": "markdown",
   "id": "556bd1df",
   "metadata": {
    "toc": true
   },
   "source": [
    "<h1>Table of Contents<span class=\"tocSkip\"></span></h1>\n",
    "<div class=\"toc\"><ul class=\"toc-item\"><li><span><a href=\"#Import-libraries\" data-toc-modified-id=\"Import-libraries-1\">Import libraries</a></span></li><li><span><a href=\"#Read-root-file-and-convert-to-python\" data-toc-modified-id=\"Read-root-file-and-convert-to-python-2\">Read root file and convert to python</a></span></li><li><span><a href=\"#Analysis\" data-toc-modified-id=\"Analysis-3\">Analysis</a></span><ul class=\"toc-item\"><li><span><a href=\"#Cluster-size-(also-column-width-/-row-width-of-clusters)\" data-toc-modified-id=\"Cluster-size-(also-column-width-/-row-width-of-clusters)-3.1\">Cluster size (also column width / row width of clusters)</a></span></li><li><span><a href=\"#Number-of-clusters\" data-toc-modified-id=\"Number-of-clusters-3.2\">Number of clusters</a></span></li><li><span><a href=\"#Correlation-plots\" data-toc-modified-id=\"Correlation-plots-3.3\">Correlation plots</a></span></li></ul></li></ul></div>"
   ]
  },
  {
   "cell_type": "markdown",
   "id": "698515c7",
   "metadata": {},
   "source": [
    "## Import libraries"
   ]
  },
  {
   "cell_type": "code",
   "execution_count": null,
   "id": "ff9f7c11",
   "metadata": {},
   "outputs": [],
   "source": [
    "from ipywidgets import IntProgress\n",
    "from IPython.display import display,HTML,clear_output\n",
    "import time\n",
    "import ROOT\n",
    "import numpy as np\n",
    "import matplotlib.pyplot as plt\n",
    "import ipywidgets as widgets\n",
    "from uits3_krakow22.src.Event import Event\n",
    "from uits3_krakow22.src.Cluster import Cluster\n",
    "from uits3_krakow22.src.Track import Track\n",
    "\n",
    "display(HTML(\"<style>.container { width:95% !important; }</style>\"))\n",
    "display(HTML(\"<style>table {float:left;}</style>\"))"
   ]
  },
  {
   "cell_type": "markdown",
   "id": "a9c21744",
   "metadata": {},
   "source": [
    "## Read root file and convert to python\n",
    "+ Converting to python classes is actually not needed in this example and we could very well just take the corryvreckan cluster objects for filling histograms\n",
    "+ However in the long run we will probably need to add our own stuff to clusters so I already do the conversion here"
   ]
  },
  {
   "cell_type": "code",
   "execution_count": null,
   "id": "4f3c90b7",
   "metadata": {},
   "outputs": [],
   "source": [
    "filePath = \"/home/berki/Software/uits3_krakow22/corry-tools/output/exampleData_clusters.root\"\n",
    "file = ROOT.TFile.Open(filePath)\n",
    "tEvents = file.Get(\"Event\")\n",
    "tClusters = file.Get(\"Cluster\")\n",
    "\n",
    "#tClusters.GetListOfBranches().ls() # list detectors\n",
    "detectors = [\"ALPIDE_0\",\"ALPIDE_1\",\"ALPIDE_2\",\"ALPIDE_3\",\"ALPIDE_4\"]\n",
    "\n",
    "events = []\n",
    "\n",
    "nEvents = tClusters.GetEntriesFast() # to read full file\n",
    "#nEvents = 1000\n",
    "\n",
    "#progress bar\n",
    "f = IntProgress(min=0, max=nEvents, description=\"Converting:\")\n",
    "display(f)\n",
    "\n",
    "for index,event in enumerate(tClusters):\n",
    "    if index > nEvents : break #to limit the number of events to be processed\n",
    "    myEvent = Event()\n",
    "    for detector in detectors:\n",
    "        branch = getattr(event, detector)\n",
    "        for cluster in branch:\n",
    "            myClus = Cluster()\n",
    "            myClus.setData(cluster)\n",
    "            myEvent.addCluster(myClus)\n",
    "    events.append(myEvent)\n",
    "    f.value += 1\n",
    "    \n",
    "f.bar_style = \"success\""
   ]
  },
  {
   "cell_type": "code",
   "execution_count": null,
   "id": "7ae08730",
   "metadata": {
    "scrolled": true
   },
   "outputs": [],
   "source": [
    "filePath = \"/home/berki/Software/uits3_krakow22/corry-tools/output/exampleData_clusters.root\"\n",
    "file = ROOT.TFile.Open(filePath)\n",
    "tEvents = file.Get(\"Event\")\n",
    "tClusters = file.Get(\"Cluster\")\n",
    "\n",
    "detectors = [\"ALPIDE_0\",\"ALPIDE_1\",\"ALPIDE_2\",\"ALPIDE_3\",\"ALPIDE_4\"]\n",
    "\n",
    "events = []\n",
    "\n",
    "nEvents = tClusters.GetEntriesFast()\n",
    "\n",
    "for index,event in enumerate(tClusters):\n",
    "    for detector in detectors:\n",
    "        branch = getattr(event, detector)\n",
    "        for cluster in branch:\n",
    "            print(cluster.local)"
   ]
  },
  {
   "cell_type": "code",
   "execution_count": null,
   "id": "fb090572",
   "metadata": {},
   "outputs": [],
   "source": [
    "import pickle\n",
    "detectors = [\"ALPIDE_0\",\"ALPIDE_1\",\"ALPIDE_2\",\"ALPIDE_3\",\"ALPIDE_4\"]\n",
    "with open(\"/home/berki/Software/uits3_krakow22/run456060805_221112060811_uITS3_clusters.pkl\", 'rb') as f:\n",
    "    events = pickle.load(f)\n",
    "    \n",
    "len(events)"
   ]
  },
  {
   "cell_type": "markdown",
   "id": "f4281a0e",
   "metadata": {},
   "source": [
    "## Analysis"
   ]
  },
  {
   "cell_type": "markdown",
   "id": "b39ac4f6",
   "metadata": {},
   "source": [
    "### Cluster size (also column width / row width of clusters)\n",
    "+ Since we observe that the inner layers have much more hits, we know they must be from delta electrons or from the beam etc.\n",
    "+ In order to get rid of them, one idea would be to apply cuts on cluster size as the wanted proton hits should lead to larger clusters"
   ]
  },
  {
   "cell_type": "code",
   "execution_count": null,
   "id": "c162177c",
   "metadata": {},
   "outputs": [],
   "source": [
    "%jsroot on\n",
    "canvas = ROOT.TCanvas()\n",
    "legend = ROOT.TLegend()\n",
    "\n",
    "# Calculate histogram\n",
    "hClusSize = [ROOT.TH1F(\"Cluster_Size_\"+det, \"Size of cluster - \"+det, 100, 0, 100) for det in detectors]\n",
    "for event in events:\n",
    "    for index,detector in enumerate(detectors):\n",
    "        for cluster in event.clusters:\n",
    "            if cluster.detector == detector:\n",
    "                hClusSize[index].Fill(cluster.size)\n",
    "\n",
    "#Draw histogram\n",
    "for index,hist in enumerate(hClusSize):\n",
    "    hist.Scale(1/hist.Integral())\n",
    "    hist.SetMaximum(0.2)\n",
    "    hist.Draw(\"SAME HIST\")\n",
    "    hist.SetLineColor(index+1)\n",
    "    hist.SetLineWidth(2)\n",
    "    hist.SetXTitle(\"Cluster size [pixels]\")\n",
    "    hist.SetYTitle(\"Counts (normalized to integral)\")\n",
    "    legend.AddEntry(hist,detectors[index])\n",
    "\n",
    "legend.Draw() \n",
    "canvas.Draw()"
   ]
  },
  {
   "cell_type": "code",
   "execution_count": null,
   "id": "4d6ed64f",
   "metadata": {},
   "outputs": [],
   "source": [
    "%jsroot on\n",
    "canvas = ROOT.TCanvas()\n",
    "canvas.SetCanvasSize(900,600)\n",
    "\n",
    "# Calculate histogram\n",
    "h2DClusSizeVsColWidth = [ROOT.TH2F(\"Cluster_Size_vs_ColWidth\"+det, \"Size of cluster vs column width- \"+det, 30,0,30,10,0,10) for det in detectors]\n",
    "for event in events:\n",
    "    for index,detector in enumerate(detectors):\n",
    "        for cluster in event.clusters:\n",
    "            if cluster.detector == detector:\n",
    "                h2DClusSizeVsColWidth[index].Fill(cluster.size,cluster.colWidth)\n",
    "\n",
    "#Draw histogram\n",
    "canvas.Divide(3,2)\n",
    "for pad in range(5):\n",
    "    canvas.cd(pad+1)\n",
    "    h2DClusSizeVsColWidth[pad].Draw(\"COLZ\")\n",
    "    h2DClusSizeVsColWidth[pad].SetTitle(\"ALPIDE_\"+str(pad)+\"; Cluster Size [pixel]; Cluster column width [pixel]\")\n",
    "\n",
    "canvas.Draw()"
   ]
  },
  {
   "cell_type": "markdown",
   "id": "e633087b",
   "metadata": {},
   "source": [
    "### Number of clusters"
   ]
  },
  {
   "cell_type": "code",
   "execution_count": null,
   "id": "0286b126",
   "metadata": {},
   "outputs": [],
   "source": [
    "%jsroot on\n",
    "canvas = ROOT.TCanvas()\n",
    "canvas.SetCanvasSize(900,900)\n",
    "canvas.Divide(2,2)\n",
    "cuts = {0:0,\n",
    "        1:5,\n",
    "        2:10,\n",
    "        3:15\n",
    "       }\n",
    "hNClusDet = []\n",
    "for pad in range(4):\n",
    "    # Fill histograms\n",
    "    hNClusDet.append([ROOT.TH1F(\"nClusters_\"+det+\"_cut_\"+str(pad), \"nClusters of events - \"+det, 30, 0, 30) for det in detectors])\n",
    "    for event in events:\n",
    "        for index,detector in enumerate(detectors):\n",
    "            count = 0\n",
    "            for cluster in event.clusters:\n",
    "                if cluster.detector == detector and cluster.size > cuts.get(pad):\n",
    "                    count += 1\n",
    "            if count:\n",
    "                hNClusDet[pad][index].Fill(count)\n",
    "                \n",
    "    # Draw histograms\n",
    "    canvas.cd(pad+1)\n",
    "    legend = ROOT.TLegend()\n",
    "    #hNClus.Draw()\n",
    "    for index,hist in enumerate(hNClusDet[pad]):\n",
    "        hist.Scale(1/hist.Integral())\n",
    "        #hist.SetMaximum(0.15)\n",
    "        hist.SetLineColor(index+1)\n",
    "        hist.SetLineWidth(2)\n",
    "        hist.SetXTitle(\"# of clusters per event\")\n",
    "        hist.SetYTitle(\"Counts (normalized to integral)\")\n",
    "        hist.SetTitle(\"Cluster size > \"+str(cuts.get(pad)))\n",
    "        legend.AddEntry(hist,detectors[index])\n",
    "        hist.Draw(\"SAME HIST\")\n",
    "    legend.Draw()\n",
    "canvas.Draw()"
   ]
  },
  {
   "cell_type": "markdown",
   "id": "78eb5094",
   "metadata": {},
   "source": [
    "### Correlation plots\n",
    "+ To-Do make sure this is the right way to do it"
   ]
  },
  {
   "cell_type": "code",
   "execution_count": null,
   "id": "e24dcd4b",
   "metadata": {},
   "outputs": [],
   "source": [
    "nBins = {\"x-Axis\" : 60, \"y-Axis\" : 30}\n",
    "nRange = {\"x-Axis\" : 16, \"y-Axis\" : 8}\n",
    "axis = {\"x-Axis\":0, \"y-Axis\":1}"
   ]
  },
  {
   "cell_type": "code",
   "execution_count": null,
   "id": "205bfc23",
   "metadata": {},
   "outputs": [],
   "source": [
    "%jsroot on\n",
    "canvas = ROOT.TCanvas()\n",
    "legend = ROOT.TLegend()\n",
    "\n",
    "detector1 = \"ALPIDE_3\"\n",
    "detector2 = \"ALPIDE_4\"\n",
    "axis1=\"x-Axis\"\n",
    "axis2=\"x-Axis\"\n",
    "\n",
    "# Calculate histogram\n",
    "hCorr = ROOT.TH2F(\"Corr_\"+detector1+\"_\"+axis1+\"_\"+detector2+\"_\"+axis2,\"Correlation\", nBins.get(axis1),-nRange.get(axis1),nRange.get(axis1),nBins.get(axis2),-nRange.get(axis2),nRange.get(axis2))\n",
    "hCorr.SetXTitle(detector1 + \" - \" + axis1)\n",
    "hCorr.SetYTitle(detector2 + \" - \" + axis2)\n",
    "for event in events:\n",
    "    clustersDetector1 = event.selectDetector(detector1)\n",
    "    clustersDetector2 = event.selectDetector(detector2)\n",
    "    #if len(clustersDetector1) == 1 and len(clustersDetector2) == 1:\n",
    "    if True:\n",
    "        for cluster1 in clustersDetector1:\n",
    "            if cluster1.size > 2:\n",
    "                for cluster2 in clustersDetector2:\n",
    "                    if cluster2.size > 2:\n",
    "                        hCorr.Fill(cluster1.localPos[axis.get(axis1)],cluster2.localPos[axis.get(axis2)])\n",
    "                    \n",
    "#Draw histogram\n",
    "hCorr.Draw(\"COLZ\")\n",
    "canvas.Draw()"
   ]
  },
  {
   "cell_type": "code",
   "execution_count": null,
   "id": "28bbafa2",
   "metadata": {},
   "outputs": [],
   "source": [
    "import pickle\n",
    "def save_object(obj, filename):\n",
    "    with open(filename, 'wb') as outp:  # Overwrites any existing file.\n",
    "        pickle.dump(obj, outp, pickle.HIGHEST_PROTOCOL)"
   ]
  },
  {
   "cell_type": "code",
   "execution_count": null,
   "id": "121823a0",
   "metadata": {},
   "outputs": [],
   "source": [
    "save_object(events,\"myEvents.pkl\")"
   ]
  },
  {
   "cell_type": "code",
   "execution_count": null,
   "id": "7e90f69e",
   "metadata": {},
   "outputs": [],
   "source": [
    "# Dictionaries for axes\n",
    "nBins = {\"x-Axis\" : 120, \"y-Axis\" : 60}\n",
    "nRange = {\"x-Axis\" : 15, \"y-Axis\" : 7.5}\n",
    "axis = {\"x-Axis\":0, \"y-Axis\":1}"
   ]
  },
  {
   "cell_type": "code",
   "execution_count": null,
   "id": "f88fc65b",
   "metadata": {},
   "outputs": [],
   "source": [
    "def correlationHist(detector1=\"ALPIDE_1\", detector2=\"ALPIDE_1\", axis1=\"x-Axis\", axis2=\"x-Axis\"):\n",
    "    global nBins,nRange,axName\n",
    "    hCorr = ROOT.TH2F(\"Corr\"+detector1+axis1+detector2+axis2,\"Correlation\", nBins.get(axis1),-nRange.get(axis1),nRange.get(axis1),nBins.get(axis2),-nRange.get(axis2),nRange.get(axis2))\n",
    "    hCorr.SetXTitle(detector1 + \" - \" + axis1)\n",
    "    hCorr.SetYTitle(detector2 + \" - \" + axis2)\n",
    "    for event in events:\n",
    "        clustersDetector1 = event.selectDetector(detector1)\n",
    "        clustersDetector2 = event.selectDetector(detector2)\n",
    "        for cluster1 in clustersDetector1:\n",
    "            if cluster1.size > 15:\n",
    "                for cluster2 in clustersDetector2:\n",
    "                    if cluster2.size > 15:\n",
    "                        hCorr.Fill(cluster1.localPos[axis.get(axis1)],cluster2.localPos[axis.get(axis2)])\n",
    "    return hCorr"
   ]
  },
  {
   "cell_type": "code",
   "execution_count": null,
   "id": "16a1248d",
   "metadata": {
    "scrolled": false
   },
   "outputs": [],
   "source": [
    "%jsroot on\n",
    "axis1=\"x-Axis\"\n",
    "axis2=\"x-Axis\"\n",
    "canvas = ROOT.TCanvas()\n",
    "hist = correlationHist(detector1=\"ALPIDE_1\", detector2=\"ALPIDE_1\", axis1=\"x-Axis\", axis2=\"x-Axis\")\n",
    "hist.Draw(\"COLZ\")\n",
    "canvas.Draw()\n"
   ]
  },
  {
   "cell_type": "code",
   "execution_count": null,
   "id": "ad29b357",
   "metadata": {},
   "outputs": [],
   "source": [
    "%jsroot on\n",
    "canvas = ROOT.TCanvas()\n",
    "legend = ROOT.TLegend()\n",
    "\n",
    "# Calculate histogram\n",
    "hMyHist = ROOT.TH1F(\"myHist\", \"myHist\", 30, 0, 30)\n",
    "for event in events:\n",
    "    for cluster in event.clusters:\n",
    "        if int(cluster.detector[-1]) == 1 :\n",
    "            hMyHist.Fill(cluster.size)\n",
    "\n",
    "#Draw histogram\n",
    "hMyHist.Draw()\n",
    "\n",
    "#legend.Draw() \n",
    "canvas.Draw()"
   ]
  },
  {
   "cell_type": "code",
   "execution_count": null,
   "id": "a2670baf",
   "metadata": {},
   "outputs": [],
   "source": []
  }
 ],
 "metadata": {
  "kernelspec": {
   "display_name": "Python 3 (ipykernel)",
   "language": "python",
   "name": "python3"
  },
  "language_info": {
   "codemirror_mode": {
    "name": "ipython",
    "version": 3
   },
   "file_extension": ".py",
   "mimetype": "text/x-python",
   "name": "python",
   "nbconvert_exporter": "python",
   "pygments_lexer": "ipython3",
   "version": "3.10.6"
  },
  "toc": {
   "base_numbering": 1,
   "nav_menu": {},
   "number_sections": false,
   "sideBar": false,
   "skip_h1_title": true,
   "title_cell": "Table of Contents",
   "title_sidebar": "Contents",
   "toc_cell": true,
   "toc_position": {},
   "toc_section_display": true,
   "toc_window_display": false
  },
  "vscode": {
   "interpreter": {
    "hash": "767d51c1340bd893661ea55ea3124f6de3c7a262a8b4abca0554b478b1e2ff90"
   }
  }
 },
 "nbformat": 4,
 "nbformat_minor": 5
}
